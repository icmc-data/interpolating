{
  "nbformat": 4,
  "nbformat_minor": 0,
  "metadata": {
    "colab": {
      "name": "new_instance_v2.ipynb",
      "provenance": [],
      "collapsed_sections": [],
      "toc_visible": true
    },
    "kernelspec": {
      "name": "python3",
      "display_name": "Python 3"
    },
    "accelerator": "GPU"
  },
  "cells": [
    {
      "cell_type": "markdown",
      "metadata": {
        "id": "EbwDGmMH_4Ra",
        "colab_type": "text"
      },
      "source": [
        "# **1. Configurando a instância com GPU**\n",
        "Vá nas opções Runtime > Change runtime type > GPU\n"
      ]
    },
    {
      "cell_type": "markdown",
      "metadata": {
        "id": "e7PCkXX4DMPy",
        "colab_type": "text"
      },
      "source": [
        "# Configurando CUDA e Tensowflow"
      ]
    },
    {
      "cell_type": "code",
      "metadata": {
        "id": "e6feKszd9k6T",
        "colab_type": "code",
        "colab": {}
      },
      "source": [
        "%tensorflow_version 1.x\n",
        "import tensorflow as tf\n",
        "print(tf.__version__ )"
      ],
      "execution_count": 0,
      "outputs": []
    },
    {
      "cell_type": "code",
      "metadata": {
        "colab_type": "code",
        "id": "r-uUjDLQ9x5P",
        "colab": {}
      },
      "source": [
        "\n",
        "if tf.__version__ !='1.12.2':\n",
        "  !pip install --upgrade tensorflow-gpu==1.12.2\n",
        "  !wget https://developer.nvidia.com/compute/cuda/9.0/Prod/local_installers/cuda-repo-ubuntu1604-9-0-local_9.0.176-1_amd64-deb\n",
        "  !dpkg -i cuda-repo-ubuntu1604-9-0-local_9.0.176-1_amd64-deb\n",
        "  !apt-key add /var/cuda-repo-9-0-local/7fa2af80.pub\n",
        "  !apt-get update\n",
        "  !apt-get install cuda=9.0.176-1\n",
        "  !echo ****** Cuda reinstall completed. Restart runtime now! *******\n",
        "  exit()"
      ],
      "execution_count": 0,
      "outputs": []
    },
    {
      "cell_type": "markdown",
      "metadata": {
        "id": "EJlir_6eBtlP",
        "colab_type": "text"
      },
      "source": [
        "# **2. Abrindo uma instância SSH para acesso externo**\n",
        "Ref: https://imadelhanafi.com/posts/google_colal_server/\n",
        "\n",
        "Ref: https://ngrok.com/download\n",
        "\n",
        "Iremos abrir um túnel SSH que permitirá a quem tiver a chave de acesso de se conectar à VM e executar os scripts..."
      ]
    },
    {
      "cell_type": "code",
      "metadata": {
        "id": "7H_E7is8NAhY",
        "colab_type": "code",
        "colab": {}
      },
      "source": [
        "# Gerando a senha que será utilizada para conectar o SSH\n",
        "import random, string\n",
        "password = 'INSIRA_SENHA_SSH'"
      ],
      "execution_count": 0,
      "outputs": []
    },
    {
      "cell_type": "code",
      "metadata": {
        "id": "TxebUuRePODX",
        "colab_type": "code",
        "colab": {}
      },
      "source": [
        "# Baixando pacotes necessários para abrir um SSH\n",
        "! apt-get install -qq -o=Dpkg::Use-Pty=0 openssh-server pwgen > /dev/null"
      ],
      "execution_count": 0,
      "outputs": []
    },
    {
      "cell_type": "code",
      "metadata": {
        "id": "yS4XONJsMrcE",
        "colab_type": "code",
        "colab": {}
      },
      "source": [
        "# Definindo a senha definada ao usuário ROOT\n",
        "! echo root:$password | chpasswd\n",
        "! mkdir -p /var/run/sshd\n",
        "! echo \"PermitRootLogin yes\" >> /etc/ssh/sshd_config\n",
        "! echo \"PasswordAuthentication yes\" >> /etc/ssh/sshd_config\n",
        "! echo \"ClientAliveInterval 240\" >> /etc/ssh/sshd_config\n",
        "! echo \"ClientAliveCountMax 2\" >> /etc/ssh/sshd_config\n",
        "\n",
        "! echo \"LD_LIBRARY_PATH=/usr/lib64-nvidia\" >> /root/.bashrc\n",
        "! echo \"export LD_LIBRARY_PATH\" >> /root/.bashrc\n",
        "\n",
        "# Run sshd\n",
        "get_ipython().system_raw('/usr/sbin/sshd -D &')"
      ],
      "execution_count": 0,
      "outputs": []
    },
    {
      "cell_type": "code",
      "metadata": {
        "id": "fFGkeyZaESfA",
        "colab_type": "code",
        "colab": {}
      },
      "source": [
        "# Baixando o ngrok\n",
        "!wget -q -c -nc https://bin.equinox.io/c/4VmDzA7iaHb/ngrok-stable-linux-amd64.zip\n",
        "!unzip -qq -n ngrok-stable-linux-amd64.zip\n",
        "!rm ngrok-stable-linux-amd64.zip"
      ],
      "execution_count": 0,
      "outputs": []
    },
    {
      "cell_type": "code",
      "metadata": {
        "id": "UyZeR83TEv7m",
        "colab_type": "code",
        "colab": {}
      },
      "source": [
        "# Configurando AUTH Token\n",
        "import getpass\n",
        "print(\"Insira a seguir o AUTH Token disponivel em https://dashboard.ngrok.com/auth\")\n",
        "authtoken = getpass.getpass()"
      ],
      "execution_count": 0,
      "outputs": []
    },
    {
      "cell_type": "code",
      "metadata": {
        "id": "45Bm3tqkHhd3",
        "colab_type": "code",
        "colab": {}
      },
      "source": [
        "# Abrindo o Tunel \n",
        "get_ipython().system_raw('./ngrok authtoken $authtoken && ./ngrok tcp 22 &')"
      ],
      "execution_count": 0,
      "outputs": []
    },
    {
      "cell_type": "code",
      "metadata": {
        "id": "4wKQ5bXSLnvQ",
        "colab_type": "code",
        "colab": {}
      },
      "source": [
        "# Exibindo os dados necessários para fazer a conexão SSH\n",
        "print(\"Root password: {}\".format(password))\n",
        "! curl -s http://localhost:4040/api/tunnels | python3 -c \\\n",
        "    \"import sys, json; print(json.load(sys.stdin)['tunnels'][0]['public_url'])\"\n",
        "\n",
        "# Exemplo de conexão ssh utilizando puTTY para testes\n",
        "# putty -ssh root@0.tcp.ngrok.io -P portaAqui\n",
        "# putty -ssh root@0.tcp.ngrok.io -P 19773"
      ],
      "execution_count": 0,
      "outputs": []
    },
    {
      "cell_type": "markdown",
      "metadata": {
        "id": "7CnvgVjiSE8t",
        "colab_type": "text"
      },
      "source": [
        "# Instância aberta \n",
        "A partir de agora, você pode utilizar conexões ssh para executar comandos nessa instância.\n",
        "\n",
        "Lembre-se sempre que os arquivos da instância funcionam no diretório **/content**"
      ]
    },
    {
      "cell_type": "markdown",
      "metadata": {
        "id": "yV1HrlmjTiK7",
        "colab_type": "text"
      },
      "source": [
        "# Fechando a Instância\n",
        "Para fechar a instância e garantir que o SSH e seus dados do Google drive não vão ficar abertos indiscriminadamente é necessário resetar o runtime.\n",
        "\n",
        "Para isso vá em Runtime > Reset all runtimes\n",
        "\n",
        "Obs.: Reset != Restart"
      ]
    },
    {
      "cell_type": "markdown",
      "metadata": {
        "colab_type": "text",
        "id": "TUs7UDafd-eH"
      },
      "source": [
        "# **3. Integrando com a pasta do Google Drive**\n",
        "Vamos criar link desta VM com a pasta desejada no Google Drive. \n",
        "\n",
        "Isso será necessário para que os scripts na pasta \"dataday\" sejam acessíveis pela SSH externo."
      ]
    },
    {
      "cell_type": "code",
      "metadata": {
        "colab_type": "code",
        "id": "ZnrEVWG9d-dp",
        "colab": {}
      },
      "source": [
        "from google.colab import drive \n",
        "drive.mount('/content/gdrive') "
      ],
      "execution_count": 0,
      "outputs": []
    },
    {
      "cell_type": "markdown",
      "metadata": {
        "id": "AvEA4pzwKxyC",
        "colab_type": "text"
      },
      "source": [
        "# **4. Baixando os Scripts e Models**"
      ]
    },
    {
      "cell_type": "code",
      "metadata": {
        "id": "3bGMAaqiPadZ",
        "colab_type": "code",
        "colab": {}
      },
      "source": [
        "from pathlib import Path"
      ],
      "execution_count": 0,
      "outputs": []
    },
    {
      "cell_type": "code",
      "metadata": {
        "id": "tUCPBxqnOl5U",
        "colab_type": "code",
        "colab": {}
      },
      "source": [
        "! mkdir /content/morph"
      ],
      "execution_count": 0,
      "outputs": []
    },
    {
      "cell_type": "code",
      "metadata": {
        "id": "GXrKwwZpvKKA",
        "colab_type": "code",
        "colab": {}
      },
      "source": [
        "! cd /content/morph/"
      ],
      "execution_count": 0,
      "outputs": []
    },
    {
      "cell_type": "code",
      "metadata": {
        "id": "BkycNxEeUWBA",
        "colab_type": "code",
        "colab": {}
      },
      "source": [
        "if not Path('stylegan-encoder').is_dir():\n",
        "# !rm -rf sample_data\n",
        "  !git clone https://github.com/pbaylies/stylegan-encoder\n",
        "if not Path('InterFaceGAN').is_dir():\n",
        "  !git clone https://github.com/tr1pzz/InterFaceGAN.git"
      ],
      "execution_count": 0,
      "outputs": []
    },
    {
      "cell_type": "code",
      "metadata": {
        "id": "DVdh8LIdQVSz",
        "colab_type": "code",
        "colab": {}
      },
      "source": [
        "###resnet do encoder\n",
        "if not Path('stylegan-encoder/data/finetuned_resnet.h5').exists():\n",
        "  !gdown https://drive.google.com/uc?id=1aT59NFy9-bNyXjDuZOTMl0qX0jmZc6Zb\n",
        "  !mkdir stylegan-encoder/data\n",
        "  !mv finetuned_resnet.h5 stylegan-encoder/data"
      ],
      "execution_count": 0,
      "outputs": []
    },
    {
      "cell_type": "code",
      "metadata": {
        "id": "6UF2gQvd7yCG",
        "colab_type": "code",
        "colab": {}
      },
      "source": [
        "###stylegan do interpolador\n",
        "if not Path(\"InterFaceGAN/models/pretrain/karras2019stylegan-ffhq-1024x1024.pkl\").exists():\n",
        "  !gdown https://drive.google.com/uc?id=1MEGjdvVpUsu1jB4zrXZN7Y4kBBOzizDQ\n",
        "  !mv karras2019stylegan-ffhq-1024x1024.pkl InterFaceGAN/models/pretrain/karras2019stylegan-ffhq-1024x1024.pkl"
      ],
      "execution_count": 0,
      "outputs": []
    },
    {
      "cell_type": "markdown",
      "metadata": {
        "id": "fY0i2d4zSSFG",
        "colab_type": "text"
      },
      "source": [
        "# **5. Verificando funcionamento dos Scripts**\n",
        "Após todas as etapas anteriores, é necessário copiar os scripts contidos em **/src/scripts** para **/content**. Dessa forma o collab poderá utilizar destes scripts para realizar as interpolações que serão exibidas no website."
      ]
    },
    {
      "cell_type": "code",
      "metadata": {
        "colab_type": "code",
        "id": "UMGJGB2h5_uD",
        "colab": {}
      },
      "source": [
        "# TESTANDO O PROCCESS.PY\n",
        "'''\n",
        "No Script proccess.py vão as os seguintes parâmetros:\n",
        "- Caminho para as imagens ainda não processadas pela StyleGAN.\n",
        "- Caminho para salvar as imagens interpoladas finalizadas.\n",
        "- Pasta backup para salvar as imagens que já foram processadas.\n",
        "'''\n",
        "\n",
        "! cd /content\n",
        "! python process.py /content/gdrive/My\\ Drive/dataday/dataday_interpolar/website/nao_processadas /content/gdrive/My\\ Drive/dataday/dataday_interpolar/website/static/interpolacoes /content/gdrive/My\\ Drive/dataday/dataday_interpolar/website/processadas"
      ],
      "execution_count": 0,
      "outputs": []
    },
    {
      "cell_type": "code",
      "metadata": {
        "id": "5T4FzUxhKSSf",
        "colab_type": "code",
        "colab": {}
      },
      "source": [
        "# TESTANDO CHECK.PY\n",
        "'''\n",
        "O script check.py tem como objetivo verificar se proccess.py se encontra em execução, retornando:\n",
        "- \"finalizado\" caso proccess.py não esteja em execução\n",
        "- \"processando\" caso proccess.py esteja em execução.\n",
        "'''\n",
        " ! cd /content\n",
        " ! python check.py"
      ],
      "execution_count": 0,
      "outputs": []
    }
  ]
}